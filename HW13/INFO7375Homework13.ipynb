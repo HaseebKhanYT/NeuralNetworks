{
 "cells": [
  {
   "cell_type": "code",
   "execution_count": 4,
   "id": "aead6954",
   "metadata": {},
   "outputs": [],
   "source": [
    "import numpy as np\n",
    "\n",
    "def simple_conv2d(input_image, filter_kernel):\n",
    "    \"\"\"\n",
    "    Perform a simple 2D convolution (valid/no padding, stride=1) of a single filter on input image.\n",
    "    \n",
    "    Parameters:\n",
    "        input_image (numpy.ndarray): 2D array representing the grayscale image\n",
    "        filter_kernel (numpy.ndarray): 2D array representing the filter/kernel\n",
    "    \n",
    "    Returns:\n",
    "        output (numpy.ndarray): 2D array result after convolution\n",
    "    \"\"\"\n",
    "    # Get dimensions\n",
    "    image_h, image_w = input_image.shape\n",
    "    filter_h, filter_w = filter_kernel.shape\n",
    "\n",
    "    # Output dimensions (valid)\n",
    "    output_h = image_h - filter_h + 1\n",
    "    output_w = image_w - filter_w + 1\n",
    "\n",
    "    # Initialize output\n",
    "    output = np.zeros((output_h, output_w), dtype=np.float32)\n",
    "\n",
    "    # Convolution operation (no padding, stride=1)\n",
    "    for i in range(output_h):\n",
    "        for j in range(output_w):\n",
    "            # Extract current patch\n",
    "            patch = input_image[i:i+filter_h, j:j+filter_w]\n",
    "            # Apply filter and sum\n",
    "            output[i, j] = np.sum(patch * filter_kernel)\n",
    "    return output"
   ]
  },
  {
   "cell_type": "code",
   "execution_count": 6,
   "id": "a14095f7",
   "metadata": {},
   "outputs": [],
   "source": [
    "# Example usage:\n",
    "input_image = np.array([\n",
    "    [1, 2, 3, 0, 1, 2],\n",
    "    [4, 5, 6, 1, 1, 0],\n",
    "    [7, 8, 9, 0, 2, 1],\n",
    "    [1, 3, 5, 7, 9, 2],\n",
    "    [2, 4, 6, 8, 0, 4],\n",
    "    [0, 1, 2, 3, 4, 5]\n",
    "], dtype=np.float32)\n",
    "\n",
    "filter_kernel = np.array([\n",
    "    [1, 0, -1],\n",
    "    [1, 0, -1],\n",
    "    [1, 0, -1]\n",
    "], dtype=np.float32)"
   ]
  },
  {
   "cell_type": "code",
   "execution_count": 7,
   "id": "29e69265",
   "metadata": {},
   "outputs": [
    {
     "name": "stdout",
     "output_type": "stream",
     "text": [
      "Output Feature Map:\n",
      " [[ -6.  14.  14.  -2.]\n",
      " [ -8.   8.   8.   5.]\n",
      " [-10.   0.   9.   8.]\n",
      " [-10. -10.   0.   7.]]\n"
     ]
    }
   ],
   "source": [
    "\n",
    "output = simple_conv2d(input_image, filter_kernel)\n",
    "print(\"Output Feature Map:\\n\", output)\n"
   ]
  }
 ],
 "metadata": {
  "kernelspec": {
   "display_name": ".venv",
   "language": "python",
   "name": "python3"
  },
  "language_info": {
   "codemirror_mode": {
    "name": "ipython",
    "version": 3
   },
   "file_extension": ".py",
   "mimetype": "text/x-python",
   "name": "python",
   "nbconvert_exporter": "python",
   "pygments_lexer": "ipython3",
   "version": "3.13.3"
  }
 },
 "nbformat": 4,
 "nbformat_minor": 5
}
